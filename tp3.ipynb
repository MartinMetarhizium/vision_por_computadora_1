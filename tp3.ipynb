{
 "cells": [
  {
   "cell_type": "markdown",
   "metadata": {},
   "source": [
    "# Trabajo Práctico 3 - Visión por Computadoras I\n",
    "## Carrera de Especialización En Inteligencia Artificial - Cohorte 17\n",
    "### Autores:\n",
    "* Horn, Martín\n",
    "* Lloveras, Alejandro"
   ]
  },
  {
   "cell_type": "markdown",
   "metadata": {},
   "source": [
    "---\n",
    "▪ **Objetivo:** Encontrar el logotipo de la gaseosa dentro de las imágenes provistas en `Material_TPs/TP3/images` a partir del template `Material_TPs/TP3/template`.\n",
    "\n",
    "---\n",
    "\n",
    "### Tareas:\n",
    "\n",
    "1. **(4 puntos)** Obtener una detección del logo en cada imagen **sin falsos positivos**.\n",
    "\n",
    "2. **(4 puntos)** Plantear y validar un algoritmo para **múltiples detecciones** en la imagen `coca_multi.png` con el mismo template del ítem 1.\n",
    "\n",
    "3. **(2 puntos)** Generalizar el algoritmo del ítem 2 para **todas las imágenes**.\n",
    "\n",
    "\n",
    "**Requisitos:** Visualizar los resultados con **bounding boxes** en cada imagen mostrando el **nivel de confianza** de la detección.\n"
   ]
  }
 ],
 "metadata": {
  "kernelspec": {
   "display_name": "Python 3",
   "language": "python",
   "name": "python3"
  },
  "language_info": {
   "name": "python",
   "version": "3.12.3"
  }
 },
 "nbformat": 4,
 "nbformat_minor": 2
}
